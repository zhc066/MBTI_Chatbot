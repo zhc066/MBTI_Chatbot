{
 "cells": [
  {
   "cell_type": "markdown",
   "id": "fe5f6d95",
   "metadata": {},
   "source": [
    "# COGS18 FINAL Project -- Mini MBTI Chatbot\n",
    "\n",
    "**Project Introduction**\n",
    "\n",
    "Hi there! Welcome to my COGS 18 final project, look at that, that is right! I made a mini MBTI chatbot. Never heard of MBTI? \n",
    "No probem. The Myers–Briggs Type Indicator (MBTI) is a pseudoscientific, self-report questionnaire that claims to indicate differing \"psychological types\" (often commonly called \"personality types\"). Basically, the MBTi test tells what kind of person you are. Sounds pretty interesting right? \n",
    "\n",
    "There are 16 personality accroding to the MBTI test, I am ENFJ, so I am a protagnoist feel called to serve a greater purpose in life. Thoughtful and idealistic. Yes, that is exactly who am I. Who MBTI type you are? I am really curious, why not find out below? I inserted a link here so when you get the result you can look up your corresponding personality type. Link here-------------> https://www.16personalities.com/intj-personality\n"
   ]
  },
  {
   "cell_type": "code",
   "execution_count": 1,
   "id": "cbf63d54",
   "metadata": {},
   "outputs": [],
   "source": [
    "# MBTI questions drew from https://speedmba.online/blog/mbti/:\n",
    "# Do you get your energy from interaction with the world around you (Extravert)\n",
    "# or more from yourself, with your own activities and thoughts (Introvert)?\n",
    "\n",
    "# Does your info preferably come from observing measuring, experience (Sensing), \n",
    "# or from explantion, reasoning, more abstract understanding (iNtuition)\n",
    "\n",
    "# How do you decide: by way of ratio, logic, given decision criteria (Thinking),\n",
    "# or by looking at context, interest, what feels right (Feeling)?\n",
    "\n",
    "# How do you approach situations: should things go as planned and wanted (Judgement)\n",
    "# or are you flexible, open to change, go with the flow (Perception)"
   ]
  },
  {
   "cell_type": "code",
   "execution_count": 2,
   "id": "57de3ed5",
   "metadata": {},
   "outputs": [],
   "source": [
    "# organized four MBTI questions to ask in documentation of python\n",
    "QUESTION_1 = ('Chatbot: Do you get your energy from interaction with the world '\n",
    "              'around you or B: more from yourself, with your own activities '\n",
    "              'and thoughts?')\n",
    "\n",
    "QUESTION_2 = ('Chatbot: Does your info preferably come from observing measuring, '\n",
    "              'experience or B: from explantion, reasoning, more abstract '\n",
    "              'understanding?')\n",
    "\n",
    "QUESTION_3 = ('Chatbot: How do you decide: by way of ratio, logic, given decision '\n",
    "              'criteria or B: by looking at context, interest, what feels '\n",
    "              'right?')\n",
    "\n",
    "QUESTION_4 = ('Chatbot: How do you approach situations: should things go as planned '\n",
    "              'and wanted B: or are you flexible, open to change, go with the '\n",
    "              'flow?')"
   ]
  },
  {
   "cell_type": "code",
   "execution_count": 7,
   "id": "aee40ded",
   "metadata": {},
   "outputs": [],
   "source": [
    "import sys\n",
    "sys.path.append('/MyProjectFolder/my_module')\n",
    "from my_module import functions\n",
    "\n",
    "def mini_mbti_chatbot():\n",
    "    \"\"\"\n",
    "    Mini MBTI Chatbot\n",
    "\n",
    "    This is the main function to initiate the Mini MBTI Chatbot, guiding the user \n",
    "    through a really simple version of the MBTI personality test. Users are prompted\n",
    "    with a series of questions and their responses are analyzed to determine \n",
    "    their MBTI personality type.\n",
    "\n",
    "    Parameters:\n",
    "    ----------\n",
    "    None \n",
    "    \n",
    "    Output:\n",
    "    -------\n",
    "    Intro to the MBTI test answers in human langauge (str)\n",
    "\n",
    "    \n",
    "    Chatbot Notes\n",
    "    -----\n",
    "    The mini_mbti_chatbot() is only a framework for the inputs and outputs. It relies on the `functions` module \n",
    "    from the `my_module` package for question prompts and MBTI analysis. As the import path shown above\n",
    "\n",
    "    \"\"\"\n",
    "    \n",
    "    # Print welcome messages to my dear user\n",
    "    print(\"Welcome to the Mini Personality Assessment (MBTI) Bot!\")\n",
    "    print(\"Relax and get to learn yourself better!\")\n",
    "    print(\"Please answer the following questions briefly\")\n",
    "\n",
    "    ans = [] # Initial a empty answer for user\n",
    "\n",
    "    # Ask all four mbti questions\n",
    "    for question in [QUESTION_1, QUESTION_2, QUESTION_3, QUESTION_4]:\n",
    "        answer = functions.ask_question(question)\n",
    "        if answer == \"QUIT\":\n",
    "            functions.end_chat()\n",
    "        ans.append(answer)\n",
    "\n",
    "    print(\"\\nThank you for answering the questions!\")\n",
    "    mbti_type = functions.mbti_analyzer(ans)\n",
    "    print(\"Your personality type is:\", mbti_type)\n",
    "    print(\"I hope you like the mini MBTI chatbot and my project:)\")\n",
    "    print(\"The MBTI testing questions are adapting from\"\n",
    "          \" https://speedmba.online/blog/mbti/\")"
   ]
  },
  {
   "cell_type": "markdown",
   "id": "9dced716",
   "metadata": {},
   "source": [
    "# Try the mini MBTI chatbot by yourself!\n",
    "\n",
    "**When you want to quit in the middle of the chat, type \"QUIT\" to interrupt\""
   ]
  },
  {
   "cell_type": "code",
   "execution_count": null,
   "id": "2ba9f7cb",
   "metadata": {
    "scrolled": true
   },
   "outputs": [],
   "source": [
    "mini_mbti_chatbot()"
   ]
  },
  {
   "cell_type": "markdown",
   "id": "ee154ec7",
   "metadata": {},
   "source": [
    "NOTE: test_functions successfully pass the pytest with command: \n",
    "\n",
    "zhc066@dsmlp-jupyter-zhc066:~/MyProjectFolder$ pytest -s"
   ]
  },
  {
   "cell_type": "markdown",
   "id": "4d3085e4",
   "metadata": {},
   "source": [
    "# Discussion of the Project\n",
    "\n",
    "The difficulties I encountered in this project mainly focus on the pytest part, at first, after I write those unit test, and the test functioins, I could not figure out how to execute them. After I figured out how to execute them, I encountered the problems such as wrong assertion, MUST USE pytest -s to run the test due to the fact one of the my test functions requires stirng input. The other problem I encounterd is that I have to find outside sources when I doing the test_end_chat, in class, we did not learn how to capture the string outputs, so I looked up online, and figure out StringIO().getvalue() can capture the whole output content. But I failed at the Pytest, then I figured out a with statement can bind with the new created StringIO object, so the actuial output and expected one will stay consistent and pass the test. One thing worths to be notice is that my testcells have to use pytest -s to pass, or it will fail because the assertion test requires an input for test_ask_question. I appreciate the effort of myself. More important, I would like to thank Professor, and the wonderful TAs, you guys are the real one."
   ]
  },
  {
   "cell_type": "markdown",
   "id": "34022a28",
   "metadata": {},
   "source": [
    "Credit:\n",
    "\n",
    "https://en.wikipedia.org/wiki/Myers%E2%80%93Briggs_Type_Indicator\n",
    "\n",
    "https://www.16personalities.com/personality-types\n",
    "\n",
    "https://speedmba.online/blog/mbti/\n",
    "\n",
    "https://www.geeksforgeeks.org/stringio-module-in-python/\n",
    "\n",
    "https://www.geeksforgeeks.org/with-statement-in-python/"
   ]
  }
 ],
 "metadata": {
  "kernelspec": {
   "display_name": "Python 3 (ipykernel)",
   "language": "python",
   "name": "python3"
  },
  "language_info": {
   "codemirror_mode": {
    "name": "ipython",
    "version": 3
   },
   "file_extension": ".py",
   "mimetype": "text/x-python",
   "name": "python",
   "nbconvert_exporter": "python",
   "pygments_lexer": "ipython3",
   "version": "3.9.5"
  }
 },
 "nbformat": 4,
 "nbformat_minor": 5
}
